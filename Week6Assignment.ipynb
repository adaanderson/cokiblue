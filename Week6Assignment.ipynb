{
  "nbformat": 4,
  "nbformat_minor": 0,
  "metadata": {
    "colab": {
      "provenance": [],
      "authorship_tag": "ABX9TyMX1UcB1eVR2BlSDXzyFJew",
      "include_colab_link": true
    },
    "kernelspec": {
      "name": "python3",
      "display_name": "Python 3"
    },
    "language_info": {
      "name": "python"
    }
  },
  "cells": [
    {
      "cell_type": "markdown",
      "metadata": {
        "id": "view-in-github",
        "colab_type": "text"
      },
      "source": [
        "<a href=\"https://colab.research.google.com/github/adaanderson/cokiblue/blob/main/Week6Assignment.ipynb\" target=\"_parent\"><img src=\"https://colab.research.google.com/assets/colab-badge.svg\" alt=\"Open In Colab\"/></a>"
      ]
    },
    {
      "cell_type": "code",
      "execution_count": 19,
      "metadata": {
        "colab": {
          "base_uri": "https://localhost:8080/"
        },
        "id": "q0ml2pmt0nin",
        "outputId": "7b788960-be02-4eb1-c66b-aefba4806586"
      },
      "outputs": [
        {
          "output_type": "stream",
          "name": "stdout",
          "text": [
            "['burger', 'ramen', 'taco', 'pasta', 'boba', 'tea', 'coffee', 'milk']\n",
            "\n",
            "['boba', 'burger', 'coffee', 'milk', 'pasta', 'ramen', 'taco', 'tea']\n",
            "['burger', 'coffee', 'milk', 'pasta', 'ramen', 'tea']\n"
          ]
        }
      ],
      "source": [
        "#create two lists\n",
        "food1 = ['burger', 'ramen', 'taco', 'pasta']\n",
        "drink1 = ['boba', 'tea', 'coffee', 'milk']\n",
        "#append the second to the first list\n",
        "food1.extend(drink1)\n",
        "print(food1)\n",
        "#sort the combined list\n",
        "food1.sort()\n",
        "print('\\n{}'.format(food1))\n",
        "#remove the first and second to last element\n",
        "food1.pop(0)\n",
        "food1.pop(5)\n",
        "print(food1)"
      ]
    }
  ]
}