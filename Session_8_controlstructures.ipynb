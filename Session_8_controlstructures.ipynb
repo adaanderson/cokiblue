{
  "nbformat": 4,
  "nbformat_minor": 0,
  "metadata": {
    "colab": {
      "provenance": [],
      "authorship_tag": "ABX9TyMdAo3GhdI1/ZJidou4ud95",
      "include_colab_link": true
    },
    "kernelspec": {
      "name": "python3",
      "display_name": "Python 3"
    },
    "language_info": {
      "name": "python"
    }
  },
  "cells": [
    {
      "cell_type": "markdown",
      "metadata": {
        "id": "view-in-github",
        "colab_type": "text"
      },
      "source": [
        "<a href=\"https://colab.research.google.com/github/adaanderson/cokiblue/blob/main/Session_8_controlstructures.ipynb\" target=\"_parent\"><img src=\"https://colab.research.google.com/assets/colab-badge.svg\" alt=\"Open In Colab\"/></a>"
      ]
    },
    {
      "cell_type": "code",
      "execution_count": null,
      "metadata": {
        "colab": {
          "base_uri": "https://localhost:8080/"
        },
        "id": "oA9yobTtxboL",
        "outputId": "e0a5619c-2c8c-4b56-9aab-3cfb65cb35d4"
      },
      "outputs": [
        {
          "output_type": "stream",
          "name": "stdout",
          "text": [
            "--Return--\n",
            "None\n",
            "> \u001b[0;32m<ipython-input-5-e0776da31ae3>\u001b[0m(8)\u001b[0;36m<cell line: 8>\u001b[0;34m()\u001b[0m\n",
            "\u001b[0;32m      6 \u001b[0;31m\u001b[0;34m\u001b[0m\u001b[0m\n",
            "\u001b[0m\u001b[0;32m      7 \u001b[0;31m\u001b[0;32mimport\u001b[0m \u001b[0mpdb\u001b[0m\u001b[0;34m\u001b[0m\u001b[0;34m\u001b[0m\u001b[0m\n",
            "\u001b[0m\u001b[0;32m----> 8 \u001b[0;31m\u001b[0mpdb\u001b[0m\u001b[0;34m.\u001b[0m\u001b[0mset_trace\u001b[0m\u001b[0;34m(\u001b[0m\u001b[0;34m)\u001b[0m\u001b[0;34m\u001b[0m\u001b[0;34m\u001b[0m\u001b[0m\n",
            "\u001b[0m\u001b[0;32m      9 \u001b[0;31m\u001b[0;34m\u001b[0m\u001b[0m\n",
            "\u001b[0m\u001b[0;32m     10 \u001b[0;31m\u001b[0mbest\u001b[0m \u001b[0;34m=\u001b[0m \u001b[0;34m-\u001b[0m\u001b[0;36m100\u001b[0m\u001b[0;34m\u001b[0m\u001b[0;34m\u001b[0m\u001b[0m\n",
            "\u001b[0m\n",
            "ipdb> b 20\n",
            "Breakpoint 1 at <ipython-input-5-e0776da31ae3>:20\n",
            "ipdb> c\n",
            "None\n",
            "> \u001b[0;32m<ipython-input-5-e0776da31ae3>\u001b[0m(20)\u001b[0;36m<cell line: 13>\u001b[0;34m()\u001b[0m\n",
            "\u001b[0;32m     18 \u001b[0;31m\u001b[0;34m\u001b[0m\u001b[0m\n",
            "\u001b[0m\u001b[0;32m     19 \u001b[0;31m\u001b[0;34m\u001b[0m\u001b[0m\n",
            "\u001b[0m\u001b[1;31m1\u001b[0;32m--> 20 \u001b[0;31m    \u001b[0mdifference\u001b[0m \u001b[0;34m=\u001b[0m \u001b[0mgrade2\u001b[0m\u001b[0;34m-\u001b[0m\u001b[0mgrade1\u001b[0m\u001b[0;34m\u001b[0m\u001b[0;34m\u001b[0m\u001b[0m\n",
            "\u001b[0m\u001b[0;32m     21 \u001b[0;31m    \u001b[0;32mif\u001b[0m \u001b[0mdifference\u001b[0m \u001b[0;34m>\u001b[0m \u001b[0mbest\u001b[0m\u001b[0;34m:\u001b[0m\u001b[0;34m\u001b[0m\u001b[0;34m\u001b[0m\u001b[0m\n",
            "\u001b[0m\u001b[0;32m     22 \u001b[0;31m      \u001b[0mbest\u001b[0m \u001b[0;34m=\u001b[0m \u001b[0mdifference\u001b[0m\u001b[0;34m\u001b[0m\u001b[0;34m\u001b[0m\u001b[0m\n",
            "\u001b[0m\n",
            "ipdb> b\n",
            "Num Type         Disp Enb   Where\n",
            "1   breakpoint   keep yes   at <ipython-input-5-e0776da31ae3>:20\n",
            "\tbreakpoint already hit 1 time\n",
            "ipdb> c 1\n",
            "None\n",
            "> \u001b[0;32m<ipython-input-5-e0776da31ae3>\u001b[0m(20)\u001b[0;36m<cell line: 13>\u001b[0;34m()\u001b[0m\n",
            "\u001b[0;32m     18 \u001b[0;31m\u001b[0;34m\u001b[0m\u001b[0m\n",
            "\u001b[0m\u001b[0;32m     19 \u001b[0;31m\u001b[0;34m\u001b[0m\u001b[0m\n",
            "\u001b[0m\u001b[1;31m1\u001b[0;32m--> 20 \u001b[0;31m    \u001b[0mdifference\u001b[0m \u001b[0;34m=\u001b[0m \u001b[0mgrade2\u001b[0m\u001b[0;34m-\u001b[0m\u001b[0mgrade1\u001b[0m\u001b[0;34m\u001b[0m\u001b[0;34m\u001b[0m\u001b[0m\n",
            "\u001b[0m\u001b[0;32m     21 \u001b[0;31m    \u001b[0;32mif\u001b[0m \u001b[0mdifference\u001b[0m \u001b[0;34m>\u001b[0m \u001b[0mbest\u001b[0m\u001b[0;34m:\u001b[0m\u001b[0;34m\u001b[0m\u001b[0;34m\u001b[0m\u001b[0m\n",
            "\u001b[0m\u001b[0;32m     22 \u001b[0;31m      \u001b[0mbest\u001b[0m \u001b[0;34m=\u001b[0m \u001b[0mdifference\u001b[0m\u001b[0;34m\u001b[0m\u001b[0;34m\u001b[0m\u001b[0m\n",
            "\u001b[0m\n",
            "ipdb> c\n",
            "None\n",
            "> \u001b[0;32m<ipython-input-5-e0776da31ae3>\u001b[0m(20)\u001b[0;36m<cell line: 13>\u001b[0;34m()\u001b[0m\n",
            "\u001b[0;32m     18 \u001b[0;31m\u001b[0;34m\u001b[0m\u001b[0m\n",
            "\u001b[0m\u001b[0;32m     19 \u001b[0;31m\u001b[0;34m\u001b[0m\u001b[0m\n",
            "\u001b[0m\u001b[1;31m1\u001b[0;32m--> 20 \u001b[0;31m    \u001b[0mdifference\u001b[0m \u001b[0;34m=\u001b[0m \u001b[0mgrade2\u001b[0m\u001b[0;34m-\u001b[0m\u001b[0mgrade1\u001b[0m\u001b[0;34m\u001b[0m\u001b[0;34m\u001b[0m\u001b[0m\n",
            "\u001b[0m\u001b[0;32m     21 \u001b[0;31m    \u001b[0;32mif\u001b[0m \u001b[0mdifference\u001b[0m \u001b[0;34m>\u001b[0m \u001b[0mbest\u001b[0m\u001b[0;34m:\u001b[0m\u001b[0;34m\u001b[0m\u001b[0;34m\u001b[0m\u001b[0m\n",
            "\u001b[0m\u001b[0;32m     22 \u001b[0;31m      \u001b[0mbest\u001b[0m \u001b[0;34m=\u001b[0m \u001b[0mdifference\u001b[0m\u001b[0;34m\u001b[0m\u001b[0;34m\u001b[0m\u001b[0m\n",
            "\u001b[0m\n",
            "ipdb> help\n",
            "\n",
            "Documented commands (type help <topic>):\n",
            "========================================\n",
            "EOF    commands   enable    ll        pp       s                until \n",
            "a      condition  exit      longlist  psource  skip_hidden      up    \n",
            "alias  cont       h         n         q        skip_predicates  w     \n",
            "args   context    help      next      quit     source           whatis\n",
            "b      continue   ignore    p         r        step             where \n",
            "break  d          interact  pdef      restart  tbreak         \n",
            "bt     debug      j         pdoc      return   u              \n",
            "c      disable    jump      pfile     retval   unalias        \n",
            "cl     display    l         pinfo     run      undisplay      \n",
            "clear  down       list      pinfo2    rv       unt            \n",
            "\n",
            "Miscellaneous help topics:\n",
            "==========================\n",
            "exec  pdb\n",
            "\n",
            "ipdb> clear 1\n",
            "Deleted breakpoint 1 at <ipython-input-5-e0776da31ae3>:20\n"
          ]
        }
      ],
      "source": [
        "scores = {\"John\": {\"Math\": [90,10], \"Science\": [100,0], \"Art\": [50, 50], \"Basket Weaving\": [10, 20]},\n",
        "\n",
        "          \"Jane\": {\"Math\": [90,10], \"Science\": [100,0], \"Art\": [50, 50], \"Basket Weaving\": [100, 20]},\n",
        "\n",
        "          \"Bob\": {\"Math\": [90,10], \"Science\": [100,0], \"Art\": [50, 50], \"Basket Weaving\": [1, 20]}}\n",
        "\n",
        "import pdb\n",
        "pdb.set_trace()\n",
        "\n",
        "best = -100\n",
        "winner = \"\"\n",
        "best_subject = \"\"\n",
        "for person in scores:\n",
        "  for subject in scores[person]:\n",
        "    grade1 = scores[person][subject][0]\n",
        "    grade2 = scores[person][subject][1]\n",
        "\n",
        "\n",
        "\n",
        "    difference = grade2-grade1\n",
        "    if difference > best:\n",
        "      best = difference\n",
        "      winner = person\n",
        "      best_subject = subject\n",
        "print (\"Winner: {}\\nSubject: {}\\nScore: {}\".format(winner, subject, best))"
      ]
    }
  ]
}