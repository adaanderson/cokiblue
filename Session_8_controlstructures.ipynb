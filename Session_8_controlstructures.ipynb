{
  "nbformat": 4,
  "nbformat_minor": 0,
  "metadata": {
    "colab": {
      "provenance": [],
      "authorship_tag": "ABX9TyNP5kQ23MxElU67J/wyhVD8",
      "include_colab_link": true
    },
    "kernelspec": {
      "name": "python3",
      "display_name": "Python 3"
    },
    "language_info": {
      "name": "python"
    }
  },
  "cells": [
    {
      "cell_type": "markdown",
      "metadata": {
        "id": "view-in-github",
        "colab_type": "text"
      },
      "source": [
        "<a href=\"https://colab.research.google.com/github/adaanderson/cokiblue/blob/main/Session_8_controlstructures.ipynb\" target=\"_parent\"><img src=\"https://colab.research.google.com/assets/colab-badge.svg\" alt=\"Open In Colab\"/></a>"
      ]
    },
    {
      "cell_type": "code",
      "execution_count": 24,
      "metadata": {
        "colab": {
          "base_uri": "https://localhost:8080/"
        },
        "id": "oA9yobTtxboL",
        "outputId": "cd5cfc94-9e42-450d-eab6-2d606edb9bf0"
      },
      "outputs": [
        {
          "output_type": "stream",
          "name": "stdout",
          "text": [
            "[90, 10]\n",
            "-80\n",
            "-100\n",
            "0\n",
            "10\n",
            "-80\n",
            "-100\n",
            "0\n",
            "-80\n",
            "-80\n",
            "-100\n",
            "0\n",
            "19\n"
          ]
        }
      ],
      "source": [
        "scores = {\"John\": {\"Math\": [90,10], \"Science\": [100,0], \"Art\": [50, 50], \"Basket Weaving\": [10, 20]},\n",
        "\n",
        "          \"Jane\": {\"Math\": [90,10], \"Science\": [100,0], \"Art\": [50, 50], \"Basket Weaving\": [100, 20]},\n",
        "\n",
        "          \"Bob\": {\"Math\": [90,10], \"Science\": [100,0], \"Art\": [50, 50], \"Basket Weaving\": [1, 20]}}\n",
        "\n",
        "best = -100\n",
        "\n",
        "print(scores[\"John\"][\"Math\"])\n",
        "for person in scores:\n",
        "  for subject in scores[person]:\n",
        "    grade1 = scores[person][subject][0]\n",
        "    grade2 = scores[person][subject][1]\n",
        "    difference = grade2-grade1\n",
        "    if difference > best:\n",
        "      best = difference\n",
        "winner ="
      ]
    }
  ]
}