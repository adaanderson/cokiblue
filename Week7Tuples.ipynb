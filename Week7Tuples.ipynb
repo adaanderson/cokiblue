{
  "nbformat": 4,
  "nbformat_minor": 0,
  "metadata": {
    "colab": {
      "provenance": [],
      "authorship_tag": "ABX9TyMQR84Lre1OtXkdeN1Nqn5W",
      "include_colab_link": true
    },
    "kernelspec": {
      "name": "python3",
      "display_name": "Python 3"
    },
    "language_info": {
      "name": "python"
    }
  },
  "cells": [
    {
      "cell_type": "markdown",
      "metadata": {
        "id": "view-in-github",
        "colab_type": "text"
      },
      "source": [
        "<a href=\"https://colab.research.google.com/github/adaanderson/cokiblue/blob/main/Week7Tuples.ipynb\" target=\"_parent\"><img src=\"https://colab.research.google.com/assets/colab-badge.svg\" alt=\"Open In Colab\"/></a>"
      ]
    },
    {
      "cell_type": "code",
      "execution_count": 4,
      "metadata": {
        "colab": {
          "base_uri": "https://localhost:8080/"
        },
        "id": "Fn_F682KOcau",
        "outputId": "62b6e4e1-0c32-4c03-a158-ece4526a2b4b"
      },
      "outputs": [
        {
          "output_type": "stream",
          "name": "stdout",
          "text": [
            "['boba', 'burger', 'coffee', 'pizza', 'ramen', 'smoothie', 'taco', 'tea']\n"
          ]
        }
      ],
      "source": [
        "#make 2 tuples\n",
        "food = ('ramen', 'burger', 'taco', 'pizza')\n",
        "drink = ('boba', 'coffee', 'tea', 'smoothie')\n",
        "#append one tuple to the other-not possible\n",
        "#sort the combined tuple\n",
        "#manually add tuple\n",
        "food = ('ramen', 'burger', 'taco', 'pizza', 'boba', 'coffee', 'tea', 'smoothie')\n",
        "x =  list(food)\n",
        "x.sort()\n",
        "print(x)\n",
        "#remove the second and second to last element-not possible"
      ]
    }
  ]
}