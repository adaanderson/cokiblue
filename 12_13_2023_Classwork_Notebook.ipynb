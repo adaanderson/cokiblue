{
  "nbformat": 4,
  "nbformat_minor": 0,
  "metadata": {
    "colab": {
      "provenance": [],
      "include_colab_link": true
    },
    "kernelspec": {
      "name": "python3",
      "display_name": "Python 3"
    },
    "language_info": {
      "name": "python"
    }
  },
  "cells": [
    {
      "cell_type": "markdown",
      "metadata": {
        "id": "view-in-github",
        "colab_type": "text"
      },
      "source": [
        "<a href=\"https://colab.research.google.com/github/adaanderson/cokiblue/blob/main/12_13_2023_Classwork_Notebook.ipynb\" target=\"_parent\"><img src=\"https://colab.research.google.com/assets/colab-badge.svg\" alt=\"Open In Colab\"/></a>"
      ]
    },
    {
      "cell_type": "markdown",
      "source": [
        "**Week of 1.10.2023: while loop**\n",
        "---\n",
        "\n",
        "<br>\n",
        "\n",
        "<br>\n"
      ],
      "metadata": {
        "id": "K3JVwUgVElwe"
      }
    },
    {
      "cell_type": "markdown",
      "source": [
        "#### **Problem #1.1**\n",
        "\n",
        "**Together**, let's make a code counting from 1 to 10:"
      ],
      "metadata": {
        "id": "4EgRMGgY7J-X"
      }
    },
    {
      "cell_type": "code",
      "source": [
        "count = 1\n",
        "my_list = []\n",
        "\n",
        "while count <= 10:\n",
        "  my_list.append(count)\n",
        "  count+=1\n",
        "print(my_list)\n",
        "\n"
      ],
      "metadata": {
        "id": "CWf_p9qSzIhz",
        "colab": {
          "base_uri": "https://localhost:8080/"
        },
        "outputId": "75352bb1-c9cc-4923-c0b2-d28e0b543592"
      },
      "execution_count": null,
      "outputs": [
        {
          "output_type": "stream",
          "name": "stdout",
          "text": [
            "[1, 2, 3, 4, 5, 6, 7, 8, 9, 10]\n"
          ]
        }
      ]
    },
    {
      "cell_type": "markdown",
      "source": [
        "#### **Problem #1.2**\n",
        "\n",
        "**Independently**, print even numbers from 2 to 20"
      ],
      "metadata": {
        "id": "abpwzk4TzH2K"
      }
    },
    {
      "cell_type": "code",
      "source": [
        "\"\"\"count = 1\n",
        "my_list = []\n",
        "\n",
        "while count <= 10:\n",
        "  my_list.append(2*count)\n",
        "  count+=1\n",
        "print(my_list)\"\"\"\n",
        "\n",
        "count = 2\n",
        "my_list = []\n",
        "\n",
        "while count <= 20:\n",
        "  my_list.append(count)\n",
        "  count+=2\n",
        "print(my_list)\n",
        "\n",
        "\n",
        "\n",
        "\n"
      ],
      "metadata": {
        "id": "i5mYh_8YzPbq",
        "colab": {
          "base_uri": "https://localhost:8080/"
        },
        "outputId": "4c48682c-9d90-4b29-a54c-73c8a8ce9dde"
      },
      "execution_count": null,
      "outputs": [
        {
          "output_type": "stream",
          "name": "stdout",
          "text": [
            "[2, 4, 6, 8, 10, 12, 14, 16, 18, 20]\n"
          ]
        }
      ]
    },
    {
      "cell_type": "markdown",
      "source": [
        "#### **Problem #1.3**\n",
        "\n",
        "**Independently**, print a countdown from 10 to 1!"
      ],
      "metadata": {
        "id": "QjumVEPtzOqv"
      }
    },
    {
      "cell_type": "code",
      "source": [
        "count = 10\n",
        "my_list = []\n",
        "\n",
        "while count >= 1:\n",
        "  my_list.append(count)\n",
        "  count -= 1\n",
        "print(my_list)"
      ],
      "metadata": {
        "id": "T8xD_JEjY5yf",
        "colab": {
          "base_uri": "https://localhost:8080/"
        },
        "outputId": "35c3d8f9-fffa-4326-8261-265598883cb9"
      },
      "execution_count": null,
      "outputs": [
        {
          "output_type": "stream",
          "name": "stdout",
          "text": [
            "[10, 9, 8, 7, 6, 5, 4, 3, 2, 1]\n"
          ]
        }
      ]
    },
    {
      "cell_type": "markdown",
      "source": [
        "#### **Problem #1.4**\n",
        "\n",
        "**Independently**, printing a multiplication table for a given number using input"
      ],
      "metadata": {
        "id": "0ifmUjCtzgff"
      }
    },
    {
      "cell_type": "code",
      "source": [],
      "metadata": {
        "id": "xV7vkpZaziCZ"
      },
      "execution_count": null,
      "outputs": []
    },
    {
      "cell_type": "markdown",
      "source": [
        "#### **Problem #1.5**\n",
        "\n",
        "**Independently**, find the average of a list of numbers!"
      ],
      "metadata": {
        "id": "y2sDRS3xzgmS"
      }
    },
    {
      "cell_type": "code",
      "source": [
        "numbers = [2, 4, 6, 8, 10]\n",
        "sum_numbers = sum(numbers)\n",
        "print(sum_numbers)"
      ],
      "metadata": {
        "id": "M_valyg_DcXC"
      },
      "execution_count": null,
      "outputs": []
    },
    {
      "cell_type": "markdown",
      "source": [
        "#### **Problem #1.6**\n",
        "\n",
        "**Together**, move items from one list to another!"
      ],
      "metadata": {
        "id": "utgvh-r6Db6C"
      }
    },
    {
      "cell_type": "code",
      "source": [],
      "metadata": {
        "id": "VabJfp7rDrTd"
      },
      "execution_count": null,
      "outputs": []
    },
    {
      "cell_type": "markdown",
      "source": [
        "#### **Problem #1.7**\n",
        "\n",
        "**Together**, fill a dictionary with user input!"
      ],
      "metadata": {
        "id": "z6kyVN-GDqu2"
      }
    },
    {
      "cell_type": "code",
      "source": [],
      "metadata": {
        "id": "evaf9YAgEY_x"
      },
      "execution_count": null,
      "outputs": []
    },
    {
      "cell_type": "markdown",
      "source": [
        "#### **Password Generator**\n",
        "\n",
        "**Together**, fill a dictionary with user input!"
      ],
      "metadata": {
        "id": "pJdE31B1EYUn"
      }
    },
    {
      "cell_type": "code",
      "source": [],
      "metadata": {
        "id": "Zs0oeDtVzinH"
      },
      "execution_count": null,
      "outputs": []
    }
  ]
}