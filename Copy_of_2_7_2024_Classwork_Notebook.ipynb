{
  "nbformat": 4,
  "nbformat_minor": 0,
  "metadata": {
    "colab": {
      "provenance": [],
      "include_colab_link": true
    },
    "kernelspec": {
      "name": "python3",
      "display_name": "Python 3"
    },
    "language_info": {
      "name": "python"
    }
  },
  "cells": [
    {
      "cell_type": "markdown",
      "metadata": {
        "id": "view-in-github",
        "colab_type": "text"
      },
      "source": [
        "<a href=\"https://colab.research.google.com/github/adaanderson/cokiblue/blob/main/Copy_of_2_7_2024_Classwork_Notebook.ipynb\" target=\"_parent\"><img src=\"https://colab.research.google.com/assets/colab-badge.svg\" alt=\"Open In Colab\"/></a>"
      ]
    },
    {
      "cell_type": "markdown",
      "source": [
        "#Week of 2.7.2023: Functions Part 2\n",
        "\n"
      ],
      "metadata": {
        "id": "K3JVwUgVElwe"
      }
    },
    {
      "cell_type": "markdown",
      "source": [
        "###Section 1: Basic Structure\n"
      ],
      "metadata": {
        "id": "0R12ultbhgeY"
      }
    },
    {
      "cell_type": "markdown",
      "source": [
        "####Problem 1.1\n",
        "\n",
        "Create an Animal class with attributes name, species, age, and is_adopted. Use init to set these attributes from input values."
      ],
      "metadata": {
        "id": "TlJoFhCNxIRh"
      }
    },
    {
      "cell_type": "code",
      "source": [
        "class Animal:\n",
        "  def __init__(self, name, species, age, is_adopted):\n",
        "    self.name = name\n",
        "    self.species = species\n",
        "    self.age = age\n",
        "    self.is_adopted = is_adopted\n",
        "\n",
        "animal = Animal(\"Axel\", \"Great Dane\", 1.0, \"adopted by Polly\")\n",
        "\n",
        "print(f\"{animal.name} is a {animal.species} that is {animal.age} years old. They are {animal.is_adopted}.\")"
      ],
      "metadata": {
        "id": "v6s0wcgUg9Cg",
        "colab": {
          "base_uri": "https://localhost:8080/"
        },
        "outputId": "5e3cdcf0-8618-4564-8b52-3165cd637d9e"
      },
      "execution_count": null,
      "outputs": [
        {
          "output_type": "stream",
          "name": "stdout",
          "text": [
            "Axel is a Great Dane that is 1.0 years old. They are adopted by Polly.\n"
          ]
        }
      ]
    },
    {
      "cell_type": "markdown",
      "source": [
        "####Problem 1.2\n",
        "\n",
        "Create a Movie class with attributes title, year, director, genre, and rating. Use __init__ to set these attributes from input values.\n",
        "Create methods in the Movie class to print the movie's information and calculate its age based on the current year."
      ],
      "metadata": {
        "id": "y2sDRS3xzgmS"
      }
    },
    {
      "cell_type": "code",
      "source": [
        "class Movie:\n",
        "  \"\"\"Creates a unique film object\"\"\"\n",
        "\n",
        "  def __init__(self, title, year, director, genre, rating):\n",
        "    \"\"\"Initializing object with attributes\"\"\"\n",
        "    self.title = title\n",
        "    self.year = year\n",
        "    self.director = director\n",
        "    self.genre = genre\n",
        "    self.rating = rating #out of 10\n",
        "\n",
        "\n",
        "  def describe_movie(self):\n",
        "    \"\"\"Prints the title, year, director, genre, and rating of a film/movie\"\"\"\n",
        "    print(\"Title: \" + self.title)\n",
        "    print(\"Year: \" + str(self.year))\n",
        "    print(\"Director: \" + self.director)\n",
        "    print(\"Genre: \" + self.genre)\n",
        "    print(\"Rating: \" + str(self.rating))\n",
        "\n",
        "\n",
        "  def age_of_movie(self):\n",
        "    \"\"\"Calculates current age of a movie and prints it\"\"\"\n",
        "    age = 2024-int(self.year)\n",
        "    print(age)\n",
        "\n",
        "new_movie = Movie(\"Inception\", \"2004\", \"Christopher Nolan\", \"Sci-fi\", 9)\n",
        "new_movie.describe_movie()\n",
        "new_movie.age_of_movie()"
      ],
      "metadata": {
        "id": "bvC20VfVw-pt",
        "colab": {
          "base_uri": "https://localhost:8080/"
        },
        "outputId": "7d80c159-794b-4950-f1c0-a7a2fbecb6c9"
      },
      "execution_count": null,
      "outputs": [
        {
          "output_type": "stream",
          "name": "stdout",
          "text": [
            "Title: Inception\n",
            "Year: 2004\n",
            "Director: Christopher Nolan\n",
            "Genre: Sci-fi\n",
            "Rating: 9\n",
            "20\n"
          ]
        }
      ]
    },
    {
      "cell_type": "markdown",
      "source": [
        "####Problem 1.3\n",
        "\n",
        "Create a Dish class with attributes name, description, price, and is_vegetarian. Use init to set these attributes from input values.\n",
        "Create methods in the Dish class to print the dish's information and check if it's vegetarian.\n",
        "\n",
        "Create a separate Menu list class that stores a list of Dish objects."
      ],
      "metadata": {
        "id": "iutoiN2kw8HM"
      }
    },
    {
      "cell_type": "code",
      "source": [
        "class Dish:\n",
        "  def __init__(self, name, description, price, is_vegetarian):\n",
        "    self.name = name\n",
        "    self.description = description\n",
        "    self.price = price\n",
        "    self.is_vegetarian = is_vegetarian\n",
        "\n",
        "  def dish_info(self):\n",
        "    print(f\"Name: {self.name}\\nDescription: {self.description}\\nPrice: {self.price}\\nIs Vegetarian: {self.is_vegetarian}\")\n",
        "\n",
        "class Menu:\n",
        "  def __init__(self, dishes):\n",
        "    self.dishes = dishes\n",
        "\n",
        "    dishes = [\"Pizza\", \"Pasta\"]\n",
        "\n",
        "dish = Dish(\"Pizza\", \"Pepperoni\", 9.0, False)\n",
        "dish.dish_info()"
      ],
      "metadata": {
        "id": "m8bxMX0pxN5m",
        "colab": {
          "base_uri": "https://localhost:8080/"
        },
        "outputId": "3b5b4df2-60cd-461f-b39a-35cfa5d5023b"
      },
      "execution_count": null,
      "outputs": [
        {
          "output_type": "stream",
          "name": "stdout",
          "text": [
            "Name: Pizza\n",
            "Description: Pepperoni\n",
            "Price: 9.0\n",
            "Is Vegetarian: False\n"
          ]
        }
      ]
    },
    {
      "cell_type": "markdown",
      "source": [
        "###Section 2: Basic Structure\n"
      ],
      "metadata": {
        "id": "iOTGkKjoPeoW"
      }
    },
    {
      "cell_type": "markdown",
      "source": [
        "####Problem 2.1\n",
        "\n",
        " Make a class called Restaurant. The init method for\n",
        "Restaurant should store two attributes: a restaurant_name and a cuisine_type."
      ],
      "metadata": {
        "id": "KFswEq4SPgAv"
      }
    },
    {
      "cell_type": "code",
      "source": [
        "class Restaurant:\n",
        "  def __init__(self, restaurant_name, cuisine_type):\n",
        "    self.restaurant_name = restaurant_name\n",
        "    self.cuisine_type = cuisine_type"
      ],
      "metadata": {
        "id": "_3erEK2iPhjM"
      },
      "execution_count": null,
      "outputs": []
    },
    {
      "cell_type": "markdown",
      "source": [
        "####Problem 2.2\n",
        "\n",
        "Add an attribute called number_served with a default value of 0. Create an\n",
        "instance called restaurant from this class. Print the number of customers the\n",
        "restaurant has served, and then change this value and print it again."
      ],
      "metadata": {
        "id": "8KUMcGljPrsi"
      }
    },
    {
      "cell_type": "code",
      "source": [
        "class Restaurant:\n",
        "  def __init__(self, restaurant_name, cuisine_type, number_served):\n",
        "    self.restaurant_name = restaurant_name\n",
        "    self.cuisine_type = cuisine_type\n",
        "    self.number_served = number_served\n",
        "    number_served = 0\n",
        "\n",
        "restaurant = Restaurant(\"Bob's Burgers\", \"American\", 6)\n",
        "print(f\"Name: {restaurant.restaurant_name}\\nCuisine: {restaurant.cuisine_type}\\nPeople served: {restaurant.number_served}\")"
      ],
      "metadata": {
        "id": "GTyD5ug_P6X4",
        "colab": {
          "base_uri": "https://localhost:8080/"
        },
        "outputId": "763e7e72-4cd8-4167-c28f-40300e167d24"
      },
      "execution_count": null,
      "outputs": [
        {
          "output_type": "stream",
          "name": "stdout",
          "text": [
            "Name: Bob's Burgers\n",
            "Cuisine: American\n",
            "People served: 6\n"
          ]
        }
      ]
    },
    {
      "cell_type": "markdown",
      "source": [
        "####Problem 2.3\n",
        "\n",
        "Add a method called increment_number_served() that lets you increment\n",
        "the number of customers who’ve been served. Call this method with any number you like that could represent how many customers were served in, say, a\n",
        "day of business"
      ],
      "metadata": {
        "id": "siT23DLRP7PT"
      }
    },
    {
      "cell_type": "code",
      "source": [
        "class Restaurant:\n",
        "  def __init__(self, restaurant_name, cuisine_type, number_served):\n",
        "    self.restaurant_name = restaurant_name\n",
        "    self.cuisine_type = cuisine_type\n",
        "    self.number_served = number_served\n",
        "    number_served = 0\n",
        "\n",
        "  def increment_number_served(self):\n",
        "    self.number_served = self.number_served + 1\n",
        "\n",
        "restaurant = Restaurant(\"Bob's Burgers\", \"American\", 6)\n",
        "restaurant.increment_number_served()\n",
        "print(f\"Name: {restaurant.restaurant_name}\\nCuisine: {restaurant.cuisine_type}\\nPeople served: {restaurant.number_served}\")"
      ],
      "metadata": {
        "id": "dOF5EIhjP_25",
        "colab": {
          "base_uri": "https://localhost:8080/"
        },
        "outputId": "425e0958-41b0-4e5f-b9ab-ccf80fa9e059"
      },
      "execution_count": null,
      "outputs": [
        {
          "output_type": "stream",
          "name": "stdout",
          "text": [
            "Name: Bob's Burgers\n",
            "Cuisine: American\n",
            "People served: 7\n"
          ]
        }
      ]
    },
    {
      "cell_type": "markdown",
      "source": [
        "####Problem 2.4\n",
        "\n",
        "Make a class called User. Create two attributes called first_name and\n",
        "and last_name. Make a method called describe_user() that prints a summary of the user’s information. Make another method called greet_user() that prints a personalized greeting to the user."
      ],
      "metadata": {
        "id": "esNUNFmqQBA1"
      }
    },
    {
      "cell_type": "code",
      "source": [
        "\n",
        "class User:\n",
        "  def __init__(self, first_name, last_name, company, age):\n",
        "    self.first_name = first_name\n",
        "    self.last_name = last_name\n",
        "    self.company = company\n",
        "    self.age = age\n",
        "\n",
        "  def describe_user(self):\n",
        "    print(f\"Name: {self.last_name}, {self.first_name}\\nCompany: {self.company}\\nAge:{self.age}\")\n",
        "\n",
        "  def greet_user(self):\n",
        "    print(f\"Hello {self.first_name} {self.last_name}!\")\n",
        "\n",
        "user1 = User(\"Bob\", \"Keene\", \"Apple\", 42)\n",
        "user2 = User(\"Lisa\", \"Mannen\", \"Microsoft\", 36)"
      ],
      "metadata": {
        "id": "HlIt5LXrQLXg"
      },
      "execution_count": 1,
      "outputs": []
    },
    {
      "cell_type": "markdown",
      "source": [
        "####Problem 2.4\n",
        "\n",
        "Add an attribute called login_attempts to your User\n",
        ". Write a method called increment_\n",
        "login_attempts() that increments the value of login_attempts by 1. Write\n",
        "another method called reset_login_attempts() that resets the value of login_\n",
        "attempts to 0."
      ],
      "metadata": {
        "id": "zI-QOZRbQTYx"
      }
    },
    {
      "cell_type": "code",
      "source": [
        "class User:\n",
        "  def __init__(self, first_name, last_name, company, age, login_attempts):\n",
        "    self.first_name = first_name\n",
        "    self.last_name = last_name\n",
        "    self.company = company\n",
        "    self.age = age\n",
        "    self.login_attempts = login_attempts\n",
        "\n",
        "  def describe_user(self):\n",
        "    print(f\"Name: {self.last_name}, {self.first_name}\\nCompany: {self.company}\\nAge:{self.age}\")\n",
        "\n",
        "  def greet_user(self):\n",
        "    print(f\"Hello {self.first_name} {self.last_name}!\")\n",
        "\n",
        "  def increment_login_attempts(self):\n",
        "    self.login_attempts = self.login_attempts + 1\n",
        "    print(f\"Login attempts: {self.login_attempts}\")\n",
        "\n",
        "  def reset_login_attempts(self):\n",
        "    self.login_attempts = 0\n",
        "    print(f\"Login attempts: {self.login_attempts}\")\n",
        "\n",
        "user1 = User(\"Bob\", \"Keene\", \"Apple\", 42, 2)\n",
        "user2 = User(\"Lisa\", \"Mannen\", \"Microsoft\", 36, 0)\n",
        "\n",
        "user1.describe_user()\n",
        "user1.greet_user()\n",
        "user1.increment_login_attempts()\n",
        "user1.reset_login_attempts()"
      ],
      "metadata": {
        "id": "P3bTPOmOQeYH",
        "outputId": "5d905519-e06c-45f1-e245-71bf6b26dc1a",
        "colab": {
          "base_uri": "https://localhost:8080/"
        }
      },
      "execution_count": 5,
      "outputs": [
        {
          "output_type": "stream",
          "name": "stdout",
          "text": [
            "Name: Keene, Bob\n",
            "Company: Apple\n",
            "Age:42\n",
            "Hello Bob Keene!\n",
            "Login attempts: 3\n",
            "Login attempts: 0\n"
          ]
        }
      ]
    }
  ]
}