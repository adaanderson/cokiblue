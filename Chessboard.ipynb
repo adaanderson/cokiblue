{
  "nbformat": 4,
  "nbformat_minor": 0,
  "metadata": {
    "colab": {
      "provenance": [],
      "authorship_tag": "ABX9TyNioUsemT9G/lyO7umYlUQX",
      "include_colab_link": true
    },
    "kernelspec": {
      "name": "python3",
      "display_name": "Python 3"
    },
    "language_info": {
      "name": "python"
    }
  },
  "cells": [
    {
      "cell_type": "markdown",
      "metadata": {
        "id": "view-in-github",
        "colab_type": "text"
      },
      "source": [
        "<a href=\"https://colab.research.google.com/github/adaanderson/cokiblue/blob/main/Chessboard.ipynb\" target=\"_parent\"><img src=\"https://colab.research.google.com/assets/colab-badge.svg\" alt=\"Open In Colab\"/></a>"
      ]
    },
    {
      "cell_type": "code",
      "execution_count": 35,
      "metadata": {
        "colab": {
          "base_uri": "https://localhost:8080/"
        },
        "id": "81WYH8UhfM7V",
        "outputId": "ddb2fd2c-255c-40e5-b22b-74affd1b55c0"
      },
      "outputs": [
        {
          "output_type": "stream",
          "name": "stdout",
          "text": [
            "♖ ♘ ♗ ♕ ♔ ♗ ♘ ♖\n",
            "♙ ♙ ♙ ♙ ♙ ♙ ♙ ♙ \n",
            "\n",
            "\n",
            "\n",
            "\n",
            "\n",
            "\n",
            "♟ ♟ ♟ ♟ ♟ ♟ ♟ ♟ \n",
            "♜ ♞ ♝ ♛ ♚ ♝ ♞ ♜\n"
          ]
        }
      ],
      "source": [
        "import html\n",
        "Wking = html.unescape(\"&#9812\")\n",
        "Bking = html.unescape(\"&#9818\")\n",
        "Wqueen = html.unescape(\"&#9813\")\n",
        "Bqueen = html.unescape(\"&#9819\")\n",
        "Wrook = html.unescape(\"&#9814\")\n",
        "Brook = html.unescape(\"&#9820\")\n",
        "Wbishop = html.unescape(\"&#9815\")\n",
        "Bbishop = html.unescape(\"&#9821\")\n",
        "Wknight = html.unescape(\"&#9816\")\n",
        "Bknight = html.unescape(\"&#9822\")\n",
        "Wpawn = html.unescape(\"&#9817\")\n",
        "Bpawn = html.unescape(\"&#9823\")\n",
        "print(Wrook,Wknight,Wbishop,Wqueen,Wking,Wbishop,Wknight,Wrook)\n",
        "print((Wpawn + \" \")*8)\n",
        "print(\"\\n\"*5)\n",
        "print((Bpawn + \" \")*8)\n",
        "print(Brook,Bknight,Bbishop,Bqueen,Bking,Bbishop,Bknight,Brook)\n"
      ]
    }
  ]
}