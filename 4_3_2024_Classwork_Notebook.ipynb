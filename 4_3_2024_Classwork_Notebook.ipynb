{
  "nbformat": 4,
  "nbformat_minor": 0,
  "metadata": {
    "colab": {
      "provenance": [],
      "include_colab_link": true
    },
    "kernelspec": {
      "name": "python3",
      "display_name": "Python 3"
    },
    "language_info": {
      "name": "python"
    }
  },
  "cells": [
    {
      "cell_type": "markdown",
      "metadata": {
        "id": "view-in-github",
        "colab_type": "text"
      },
      "source": [
        "<a href=\"https://colab.research.google.com/github/adaanderson/cokiblue/blob/main/4_3_2024_Classwork_Notebook.ipynb\" target=\"_parent\"><img src=\"https://colab.research.google.com/assets/colab-badge.svg\" alt=\"Open In Colab\"/></a>"
      ]
    },
    {
      "cell_type": "markdown",
      "source": [
        "##Week of 4.3.2024: Pygame\n",
        "\n",
        "\n",
        "\n"
      ],
      "metadata": {
        "id": "K3JVwUgVElwe"
      }
    },
    {
      "cell_type": "markdown",
      "source": [
        "####Problem 1.1\n",
        "\n",
        "**Text Display and Positioning:**\n",
        "Create a program that displays multiple lines of text at different positions on the screen."
      ],
      "metadata": {
        "id": "ePhz-PxCUDA5"
      }
    },
    {
      "cell_type": "code",
      "source": [
        "\n",
        "import pygame\n",
        "import pdb\n",
        "pygame.init()\n",
        "\n",
        "#colors\n",
        "#white = (225, 225, 225)\n",
        "#green = (0, 255, 0)\n",
        "#blue = (0, 0, 218)\n",
        "\n",
        "#display_surface = pygame.display.set_mode((400, 400))\n",
        "#pygame.display.set_caption = ('Hi')\n",
        "#font = pygame.fontFont('freesansbold.ttf')\n",
        "\n",
        "# Define some colors\n",
        "BLACK = (0, 0, 0)\n",
        "WHITE = (255, 255, 255)\n",
        "\n",
        "# Initialize Pygame\n",
        "pygame.init()\n",
        "\n",
        "# Set the screen size\n",
        "screen_width = 640\n",
        "screen_height = 480\n",
        "screen = pygame.display.set_mode((screen_width, screen_height))\n",
        "\n",
        "# Set the window title\n",
        "pygame.display.set_caption(\"Multiple Text Lines\")\n",
        "\n",
        "# Update the display\n",
        "pygame.display.flip()\n",
        "\n",
        "# Load a font\n",
        "font = pygame.font.SysFont(None, 32)\n",
        "\n",
        "# Define some text and positions\n",
        "text1 = \"This is the first line of text.\"\n",
        "text2 = \"This is the second line at a different position.\"\n",
        "text1_pos = (50, 50)  # Top left corner for first line\n",
        "text2_pos = (200, 150)  # Centered position for second line\n",
        "\n",
        "# Game loop\n",
        "running = True\n",
        "while running:\n",
        "    for event in pygame.event.get():\n",
        "        if event.type == pygame.QUIT:\n",
        "            running = False\n",
        "\n",
        "    # Clear the screen\n",
        "    screen.fill(BLACK)\n",
        "\n",
        "    # Render and display text at positions\n",
        "    text_surface1 = font.render(text1, True, WHITE)\n",
        "    text_surface2 = font.render(text2, True, WHITE)\n",
        "    screen.blit(text_surface1, text1_pos)\n",
        "    text_rect2 = text_surface2.get_rect(center=text2_pos)  # Center the second line\n",
        "    screen.blit(text_surface2, text_rect2)\n",
        "\n",
        "    # Update the display\n",
        "    pygame.display.flip()\n",
        "\n",
        "# Quit Pygame\n",
        "pygame.quit()\n"
      ],
      "metadata": {
        "id": "3rS4kxcTUJK1",
        "outputId": "51217d3b-9b46-4aeb-f845-09bf64c2eb23",
        "colab": {
          "base_uri": "https://localhost:8080/",
          "height": 216
        }
      },
      "execution_count": 3,
      "outputs": [
        {
          "output_type": "error",
          "ename": "KeyboardInterrupt",
          "evalue": "",
          "traceback": [
            "\u001b[0;31m---------------------------------------------------------------------------\u001b[0m",
            "\u001b[0;31mKeyboardInterrupt\u001b[0m                         Traceback (most recent call last)",
            "\u001b[0;32m<ipython-input-3-3dc398975f40>\u001b[0m in \u001b[0;36m<cell line: 43>\u001b[0;34m()\u001b[0m\n\u001b[1;32m     58\u001b[0m     \u001b[0;31m# Update the display\u001b[0m\u001b[0;34m\u001b[0m\u001b[0;34m\u001b[0m\u001b[0m\n\u001b[1;32m     59\u001b[0m \u001b[0;34m\u001b[0m\u001b[0m\n\u001b[0;32m---> 60\u001b[0;31m     \u001b[0mpygame\u001b[0m\u001b[0;34m.\u001b[0m\u001b[0mdisplay\u001b[0m\u001b[0;34m.\u001b[0m\u001b[0mflip\u001b[0m\u001b[0;34m(\u001b[0m\u001b[0;34m)\u001b[0m\u001b[0;34m\u001b[0m\u001b[0;34m\u001b[0m\u001b[0m\n\u001b[0m\u001b[1;32m     61\u001b[0m \u001b[0;34m\u001b[0m\u001b[0m\n\u001b[1;32m     62\u001b[0m \u001b[0;31m# Quit Pygame\u001b[0m\u001b[0;34m\u001b[0m\u001b[0;34m\u001b[0m\u001b[0m\n",
            "\u001b[0;31mKeyboardInterrupt\u001b[0m: "
          ]
        }
      ]
    },
    {
      "cell_type": "markdown",
      "source": [
        "####Problem 1. 2\n",
        "\n",
        "**Text Display and Positioning:**\n",
        "Develop a program where the color of the displayed rectangle changes periodically."
      ],
      "metadata": {
        "id": "RRj-Nn8RUqWL"
      }
    },
    {
      "cell_type": "code",
      "source": [
        "# Simple pygame program\n",
        "\n",
        "# Import and initialize the pygame library\n",
        "import pygame\n",
        "import time\n",
        "import random\n",
        "pygame.init()\n",
        "\n",
        "# Set up the drawing window\n",
        "screen = pygame.display.set_mode([500, 500])\n",
        "\n",
        "# Run until the user asks to quit\n",
        "running = True\n",
        "while running:\n",
        "\n",
        "    # Did the user click the window close button?\n",
        "    for event in pygame.event.get():\n",
        "        if event.type == pygame.QUIT:\n",
        "            running = False\n",
        "\n",
        "    # Fill the background with white\n",
        "    screen.fill((255, 255, 255))\n",
        "\n",
        "    # Draw a solid blue circle in the center\n",
        "    pygame.draw.rect(screen, (0, 0, 255), (150, 150, 200, 200), 0)\n",
        "\n",
        "    #Change color\n",
        "    colors = [(0, 0, 255), (255, 0, 0), (0, 255, 0)]\n",
        "    colors_count = len(colors)\n",
        "    color_index = 0\n",
        "    while running:\n",
        "        pygame.draw.rect(screen, colors[color_index], (150, 150, 200, 200), 0)\n",
        "        time.sleep(2)\n",
        "        color_index = random.randint(0, 2)\n",
        "        pygame.display.flip()\n",
        "\n",
        "    # Flip the display\n",
        "    pygame.display.flip()\n",
        "\n",
        "# Done! Time to quit.\n",
        "pygame.quit()"
      ],
      "metadata": {
        "id": "sVKo17xdUy09",
        "outputId": "eea18718-5f9f-47d8-808a-a1694d0def1f",
        "colab": {
          "base_uri": "https://localhost:8080/",
          "height": 216
        }
      },
      "execution_count": 9,
      "outputs": [
        {
          "output_type": "error",
          "ename": "KeyboardInterrupt",
          "evalue": "",
          "traceback": [
            "\u001b[0;31m---------------------------------------------------------------------------\u001b[0m",
            "\u001b[0;31mKeyboardInterrupt\u001b[0m                         Traceback (most recent call last)",
            "\u001b[0;32m<ipython-input-9-dca148717c86>\u001b[0m in \u001b[0;36m<cell line: 14>\u001b[0;34m()\u001b[0m\n\u001b[1;32m     31\u001b[0m     \u001b[0;32mwhile\u001b[0m \u001b[0mrunning\u001b[0m\u001b[0;34m:\u001b[0m\u001b[0;34m\u001b[0m\u001b[0;34m\u001b[0m\u001b[0m\n\u001b[1;32m     32\u001b[0m         \u001b[0mpygame\u001b[0m\u001b[0;34m.\u001b[0m\u001b[0mdraw\u001b[0m\u001b[0;34m.\u001b[0m\u001b[0mrect\u001b[0m\u001b[0;34m(\u001b[0m\u001b[0mscreen\u001b[0m\u001b[0;34m,\u001b[0m \u001b[0mcolors\u001b[0m\u001b[0;34m[\u001b[0m\u001b[0mcolor_index\u001b[0m\u001b[0;34m]\u001b[0m\u001b[0;34m,\u001b[0m \u001b[0;34m(\u001b[0m\u001b[0;36m150\u001b[0m\u001b[0;34m,\u001b[0m \u001b[0;36m150\u001b[0m\u001b[0;34m,\u001b[0m \u001b[0;36m200\u001b[0m\u001b[0;34m,\u001b[0m \u001b[0;36m200\u001b[0m\u001b[0;34m)\u001b[0m\u001b[0;34m,\u001b[0m \u001b[0;36m0\u001b[0m\u001b[0;34m)\u001b[0m\u001b[0;34m\u001b[0m\u001b[0;34m\u001b[0m\u001b[0m\n\u001b[0;32m---> 33\u001b[0;31m         \u001b[0mtime\u001b[0m\u001b[0;34m.\u001b[0m\u001b[0msleep\u001b[0m\u001b[0;34m(\u001b[0m\u001b[0;36m2\u001b[0m\u001b[0;34m)\u001b[0m\u001b[0;34m\u001b[0m\u001b[0;34m\u001b[0m\u001b[0m\n\u001b[0m\u001b[1;32m     34\u001b[0m         \u001b[0mcolor_index\u001b[0m \u001b[0;34m=\u001b[0m \u001b[0mrandom\u001b[0m\u001b[0;34m.\u001b[0m\u001b[0mrandint\u001b[0m\u001b[0;34m(\u001b[0m\u001b[0;36m0\u001b[0m\u001b[0;34m,\u001b[0m \u001b[0;36m2\u001b[0m\u001b[0;34m)\u001b[0m\u001b[0;34m\u001b[0m\u001b[0;34m\u001b[0m\u001b[0m\n\u001b[1;32m     35\u001b[0m         \u001b[0mpygame\u001b[0m\u001b[0;34m.\u001b[0m\u001b[0mdisplay\u001b[0m\u001b[0;34m.\u001b[0m\u001b[0mflip\u001b[0m\u001b[0;34m(\u001b[0m\u001b[0;34m)\u001b[0m\u001b[0;34m\u001b[0m\u001b[0;34m\u001b[0m\u001b[0m\n",
            "\u001b[0;31mKeyboardInterrupt\u001b[0m: "
          ]
        }
      ]
    },
    {
      "cell_type": "markdown",
      "source": [
        "####Problem 1.3\n",
        "\n",
        "**Moving a Shape with Keyboard Input:**\n",
        "Create a simple program that displays a shape (e.g., a rectangle) on the screen. Allow the user to move the shape using arrow keys or WASD keys."
      ],
      "metadata": {
        "id": "g4PQr7nLUkj1"
      }
    },
    {
      "cell_type": "code",
      "source": [],
      "metadata": {
        "id": "V2MVv0uRX_Zh"
      },
      "execution_count": null,
      "outputs": []
    },
    {
      "cell_type": "markdown",
      "source": [
        "####Problem 1.4\n",
        "**Clicking to Draw:**\n",
        "Develop a program where the user can click on the screen, and each click creates a shape at the clicked position."
      ],
      "metadata": {
        "id": "wv0ClwKJUKDK"
      }
    },
    {
      "cell_type": "code",
      "source": [],
      "metadata": {
        "id": "-vR3dwAkUKc7"
      },
      "execution_count": null,
      "outputs": []
    }
  ]
}