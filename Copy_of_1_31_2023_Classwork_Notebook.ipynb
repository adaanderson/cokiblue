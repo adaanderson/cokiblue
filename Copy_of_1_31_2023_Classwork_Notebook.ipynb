{
  "nbformat": 4,
  "nbformat_minor": 0,
  "metadata": {
    "colab": {
      "provenance": [],
      "include_colab_link": true
    },
    "kernelspec": {
      "name": "python3",
      "display_name": "Python 3"
    },
    "language_info": {
      "name": "python"
    }
  },
  "cells": [
    {
      "cell_type": "markdown",
      "metadata": {
        "id": "view-in-github",
        "colab_type": "text"
      },
      "source": [
        "<a href=\"https://colab.research.google.com/github/adaanderson/cokiblue/blob/main/Copy_of_1_31_2023_Classwork_Notebook.ipynb\" target=\"_parent\"><img src=\"https://colab.research.google.com/assets/colab-badge.svg\" alt=\"Open In Colab\"/></a>"
      ]
    },
    {
      "cell_type": "markdown",
      "source": [
        "#Week of 1.24.2023: Functions Part 1\n",
        "\n"
      ],
      "metadata": {
        "id": "K3JVwUgVElwe"
      }
    },
    {
      "cell_type": "markdown",
      "source": [
        "###Section 1: Basic Structure\n"
      ],
      "metadata": {
        "id": "0R12ultbhgeY"
      }
    },
    {
      "cell_type": "markdown",
      "source": [
        "####Problem 1.1\n",
        "\n",
        "Make a class called Restaurant. The class should store two attributes: a restaurant_name and a cuisine_type.\n",
        "Make a method called describe_restaurant() that prints these two pieces of\n",
        "information, and a method called open_restaurant() that prints a message indicating that the restaurant is open.\n",
        "Make an instance called restaurant from your class. Print the two attributes individually, and then call both methods."
      ],
      "metadata": {
        "id": "y2sDRS3xzgmS"
      }
    },
    {
      "cell_type": "code",
      "source": [
        "class Restaurant:\n",
        "  def __init__(self, restaurant_name, cuisine_type):\n",
        "    self.restaurant_name = restaurant_name\n",
        "    self.cuisine_type = cuisine_type\n",
        "\n",
        "  def describe_restaurant(self):\n",
        "    print(f\"Name: {self.restaurant_name}\\nCuisine: {self.cuisine_type}\")\n",
        "  def open_restaurant(self):\n",
        "    print(f\"{self.restaurant_name} is open!\")\n",
        "\n",
        "restaurant1 = Restaurant(\"Bob's Burgers\", \"American\")\n",
        "print (restaurant1.restaurant_name)\n",
        "print (restaurant1.cuisine_type)\n",
        "restaurant1.describe_restaurant()\n",
        "restaurant1.open_restaurant()"
      ],
      "metadata": {
        "id": "v6s0wcgUg9Cg",
        "outputId": "4be0c96b-98ab-4bc3-8687-c89a4665e086",
        "colab": {
          "base_uri": "https://localhost:8080/"
        }
      },
      "execution_count": 1,
      "outputs": [
        {
          "output_type": "stream",
          "name": "stdout",
          "text": [
            "Bob's Burgers\n",
            "American\n",
            "Name: Bob's Burgers\n",
            "Cuisine: American\n",
            "Bob's Burgers is open!\n"
          ]
        }
      ]
    },
    {
      "cell_type": "markdown",
      "source": [
        "####Problem 1.2\n",
        "\n",
        "Create three\n",
        "different instances from the restaurant class, and call describe_restaurant() for each instance.\n"
      ],
      "metadata": {
        "id": "iutoiN2kw8HM"
      }
    },
    {
      "cell_type": "code",
      "source": [
        "class Restaurant:\n",
        "  def __init__(self, restaurant_name, cuisine_type):\n",
        "    self.restaurant_name = restaurant_name\n",
        "    self.cuisine_type = cuisine_type\n",
        "\n",
        "  def describe_restaurant(self):\n",
        "    print(f\"Name: {self.restaurant_name}\\nCuisine: {self.cuisine_type}\")\n",
        "  def open_restaurant(self):\n",
        "    print(f\"{self.restaurant_name} is open!\")\n",
        "\n",
        "restaurant1 = Restaurant(\"Bob's Burgers\", \"American\")\n",
        "restaurant2 = Restaurant(\"Bubble Tea Cafe\", \"Taiwanese\")\n",
        "restaurant3 = Restaurant(\"Pasta & Pizza\", \"Italian\")\n",
        "\n",
        "restaurant1.describe_restaurant()\n",
        "restaurant2.describe_restaurant()\n",
        "restaurant3.describe_restaurant()"
      ],
      "metadata": {
        "id": "bvC20VfVw-pt",
        "outputId": "d68d44a5-f2dc-4fdb-b9ab-85cc3ab70c58",
        "colab": {
          "base_uri": "https://localhost:8080/"
        }
      },
      "execution_count": null,
      "outputs": [
        {
          "output_type": "stream",
          "name": "stdout",
          "text": [
            "Name: Bob's Burgers\n",
            "Cuisine: American\n",
            "Name: Bubble Tea Cafe\n",
            "Cuisine: Taiwanese\n",
            "Name: Pasta & Pizza\n",
            "Cuisine: Italian\n"
          ]
        }
      ]
    },
    {
      "cell_type": "markdown",
      "source": [
        "####Problem 1.3\n",
        "\n",
        "Make a class called User. Create two attributes called first_name\n",
        "and last_name, and then create several other attributes that are typically stored\n",
        "in a user profile. Make a method called describe_user() that prints a summary\n",
        "of the user’s information. Make another method called greet_user() that prints\n",
        "a personalized greeting to the user.\n",
        "Create several instances representing different users, and call both methods\n",
        "for each user.\n"
      ],
      "metadata": {
        "id": "TlJoFhCNxIRh"
      }
    },
    {
      "cell_type": "code",
      "source": [
        "class User:\n",
        "  def __init__(self, first_name, last_name, company, age):\n",
        "    self.first_name = first_name\n",
        "    self.last_name = last_name\n",
        "    self.company = company\n",
        "    self.age = age\n",
        "\n",
        "  def describe_user(self):\n",
        "    print(f\"Name: {self.last_name}, {self.first_name}\\nCompany: {self.company}\\nAge:{self.age}\")\n",
        "\n",
        "  def greet_user(self):\n",
        "    print(f\"Hello {self.first_name} {self.last_name}!\")\n",
        "\n",
        "user1 = User(\"Bob\", \"Keene\", \"Apple\", 42)\n",
        "user2 = User(\"Lisa\", \"Mannen\", \"Microsoft\", 36)\n",
        "\n",
        "user1.describe_user()\n",
        "user1.greet_user()\n",
        "user2.describe_user()\n",
        "user2.greet_user()"
      ],
      "metadata": {
        "id": "m8bxMX0pxN5m",
        "outputId": "45c83736-7d18-4f91-acf8-202a8ae2fa51",
        "colab": {
          "base_uri": "https://localhost:8080/"
        }
      },
      "execution_count": null,
      "outputs": [
        {
          "output_type": "stream",
          "name": "stdout",
          "text": [
            "Name: Keene, Bob\n",
            "Company: Apple\n",
            "Age:42\n",
            "Hello Bob Keene!\n",
            "Name: Mannen, Lisa\n",
            "Company: Microsoft\n",
            "Age:36\n",
            "Hello Lisa Mannen!\n"
          ]
        }
      ]
    },
    {
      "cell_type": "markdown",
      "source": [
        "####Problem 1.4\n",
        "\n",
        "Define a Shape base class with an abstract area() method. Create instances for specific shapes (Circle, Rectangle, Triangle) implementing the area() method based on their formulas"
      ],
      "metadata": {
        "id": "lDNekKgjK_le"
      }
    },
    {
      "cell_type": "code",
      "source": [
        "import math\n",
        "class Shape:\n",
        "  def __init__(self):\n",
        "    pass\n",
        "\n",
        "  def area(self):\n",
        "    pass\n",
        "\n",
        "class Circle(Shape):\n",
        "  def __init__(self, radius):\n",
        "    self.radius = radius\n",
        "\n",
        "  def area(self):\n",
        "    area = math.pi * self.radius * self.radius\n",
        "    return area\n",
        "\n",
        "class Rectangle(Shape):\n",
        "  def __init__(self, length, width):\n",
        "    self.length = length\n",
        "    self.width = width\n",
        "\n",
        "  def area(self):\n",
        "    area = self.length * self.width\n",
        "    return area\n",
        "\n",
        "class Triangle(Shape):\n",
        "  def __init__ (self, base, height):\n",
        "    self.base = base\n",
        "    self.height = height\n",
        "\n",
        "  def area(self):\n",
        "    area = self.base * self.height * 0.5\n",
        "    return area\n",
        "\n",
        "shape1 = Circle(2.0)\n",
        "shape2 = Rectangle(3.0, 4.0)\n",
        "shape3 = Triangle(2.0, 3.0)\n",
        "\n",
        "shape3.area()\n",
        "\n",
        "shape2.area()\n",
        "\n",
        "shape1.area()\n"
      ],
      "metadata": {
        "id": "iDKTmytoK-Od",
        "colab": {
          "base_uri": "https://localhost:8080/"
        },
        "outputId": "9bc65100-3432-4aa1-a318-c0f4904fc8d8"
      },
      "execution_count": 8,
      "outputs": [
        {
          "output_type": "execute_result",
          "data": {
            "text/plain": [
              "12.566370614359172"
            ]
          },
          "metadata": {},
          "execution_count": 8
        }
      ]
    },
    {
      "cell_type": "markdown",
      "source": [
        "####Problem 1.5\n",
        "\n",
        "Create a Book class with title, author, genre, publication date, and methods to display information, lend a book (update status), and calculate age."
      ],
      "metadata": {
        "id": "LNE1gRd6Lbje"
      }
    },
    {
      "cell_type": "code",
      "source": [
        "from datetime import datetime\n",
        "import time\n",
        "class Book:\n",
        "  def __init__(self, title, author, genre, publication_date):\n",
        "    self.title = title\n",
        "    self.author = author\n",
        "    self.genre = genre\n",
        "    self.publication_date = publication_date\n",
        "    self.lend = False\n",
        "\n",
        "  def display(self):\n",
        "    print(f\"Title: {self.title}\\nAuthor: {self.author}\\nGenre: {self.genre}\\nPublication Date: {self.publication_date}\\nLend Status: {self.lend}\")\n",
        "\n",
        "  def lend_a_book(self):\n",
        "    self.lend = True\n",
        "\n",
        "  def age(self):\n",
        "    current = datetime.now()\n",
        "    age = current - self.publication_date\n",
        "    return age\n",
        "\n",
        "\n",
        "\n",
        "book = Book(\"Harry Potter\", \"J.K. Rowling\", \"Fantasy\", datetime(2020, 5, 17))\n",
        "book.lend_a_book()\n",
        "book.display()\n",
        "book_age = book.age()\n",
        "print(f\"Age: {book_age}\")\n"
      ],
      "metadata": {
        "id": "yu1DE186LcBb",
        "colab": {
          "base_uri": "https://localhost:8080/"
        },
        "outputId": "a93b9ad0-867b-44b4-8703-b46e325c4a40"
      },
      "execution_count": 20,
      "outputs": [
        {
          "output_type": "stream",
          "name": "stdout",
          "text": [
            "Title: Harry Potter\n",
            "Author: J.K. Rowling\n",
            "Genre: Fantasy\n",
            "Publication Date: 2020-05-17 00:00:00\n",
            "Lend Status: True\n",
            "Age: 1415 days, 0:54:16.032377\n"
          ]
        }
      ]
    }
  ]
}